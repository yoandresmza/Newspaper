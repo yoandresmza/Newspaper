{
 "cells": [
  {
   "cell_type": "code",
   "execution_count": 1,
   "metadata": {},
   "outputs": [],
   "source": [
    "%load_ext autoreload\n",
    "%autoreload 2"
   ]
  },
  {
   "cell_type": "code",
   "execution_count": 3,
   "metadata": {},
   "outputs": [],
   "source": [
    "import ej1\n",
    "# o from ej1 import body"
   ]
  },
  {
   "cell_type": "code",
   "execution_count": 8,
   "metadata": {},
   "outputs": [
    {
     "data": {
      "text/plain": [
       "Counter({'Images': 1,\n",
       "         'of': 3,\n",
       "         'President': 1,\n",
       "         'Recep': 1,\n",
       "         'Tayyip': 1,\n",
       "         'Erdogan': 1,\n",
       "         'Turkey': 2,\n",
       "         'at': 1,\n",
       "         'a': 1,\n",
       "         'refugee': 1,\n",
       "         'camp': 1,\n",
       "         'for': 2,\n",
       "         'Syrians': 1,\n",
       "         'on': 1,\n",
       "         'the': 1,\n",
       "         'outskirts': 1,\n",
       "         'Kahramanmaras': 1,\n",
       "         'in': 1,\n",
       "         'southeastern': 1,\n",
       "         'Credit': 1,\n",
       "         'Mauricio': 1,\n",
       "         'Lima': 1,\n",
       "         'The': 1,\n",
       "         'New': 1,\n",
       "         'York': 1,\n",
       "         'Times': 1})"
      ]
     },
     "execution_count": 8,
     "metadata": {},
     "output_type": "execute_result"
    }
   ],
   "source": [
    "ej1.body(\"https://www.nytimes.com/2019/09/10/world/middleeast/turkey-syria-refugees-erdogan.html?action=click&module=Top%20Stories&pgtype=Homepage\")"
   ]
  },
  {
   "cell_type": "code",
   "execution_count": null,
   "metadata": {},
   "outputs": [],
   "source": []
  }
 ],
 "metadata": {
  "kernelspec": {
   "display_name": "Python 3",
   "language": "python",
   "name": "python3"
  },
  "language_info": {
   "codemirror_mode": {
    "name": "ipython",
    "version": 3
   },
   "file_extension": ".py",
   "mimetype": "text/x-python",
   "name": "python",
   "nbconvert_exporter": "python",
   "pygments_lexer": "ipython3",
   "version": "3.7.1"
  }
 },
 "nbformat": 4,
 "nbformat_minor": 2
}
